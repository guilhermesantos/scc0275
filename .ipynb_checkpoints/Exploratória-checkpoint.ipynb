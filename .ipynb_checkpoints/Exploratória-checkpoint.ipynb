{
 "cells": [
  {
   "cell_type": "code",
   "execution_count": 105,
   "metadata": {},
   "outputs": [],
   "source": [
    "import matplotlib.pyplot as plt\n",
    "import seaborn as sns\n",
    "import pandas as pd\n",
    "import stats\n",
    "import sklearn as sk\n",
    "import plotly"
   ]
  },
  {
   "cell_type": "markdown",
   "metadata": {},
   "source": [
    "# ECDC - Preprocessamento e análise exploratória"
   ]
  },
  {
   "cell_type": "markdown",
   "metadata": {},
   "source": [
    "Esta base, compilada pelo Centro Europeu de Prevenção de Doenças (ECDC, na sigla em inglês) contém o número de infecções e óbitos por Covid-19 no mundo ao longo da pandemia."
   ]
  },
  {
   "cell_type": "code",
   "execution_count": 144,
   "metadata": {},
   "outputs": [
    {
     "name": "stdout",
     "output_type": "stream",
     "text": [
      "(39329, 13)\n"
     ]
    },
    {
     "data": {
      "text/html": [
       "<div>\n",
       "<style scoped>\n",
       "    .dataframe tbody tr th:only-of-type {\n",
       "        vertical-align: middle;\n",
       "    }\n",
       "\n",
       "    .dataframe tbody tr th {\n",
       "        vertical-align: top;\n",
       "    }\n",
       "\n",
       "    .dataframe thead th {\n",
       "        text-align: right;\n",
       "    }\n",
       "</style>\n",
       "<table border=\"1\" class=\"dataframe\">\n",
       "  <thead>\n",
       "    <tr style=\"text-align: right;\">\n",
       "      <th></th>\n",
       "      <th>Unnamed: 0</th>\n",
       "      <th>day</th>\n",
       "      <th>month</th>\n",
       "      <th>year</th>\n",
       "      <th>cases</th>\n",
       "      <th>deaths</th>\n",
       "      <th>country</th>\n",
       "      <th>geoid</th>\n",
       "      <th>countryterritoryCode</th>\n",
       "      <th>population_2019</th>\n",
       "      <th>continentExp</th>\n",
       "      <th>Cumulative_number_for_14_days_of_COVID-19_cases_per_100000</th>\n",
       "      <th>date</th>\n",
       "    </tr>\n",
       "  </thead>\n",
       "  <tbody>\n",
       "    <tr>\n",
       "      <th>0</th>\n",
       "      <td>1</td>\n",
       "      <td>31</td>\n",
       "      <td>12</td>\n",
       "      <td>2019</td>\n",
       "      <td>0</td>\n",
       "      <td>0</td>\n",
       "      <td>Afghanistan</td>\n",
       "      <td>AF</td>\n",
       "      <td>AFG</td>\n",
       "      <td>38041757.0</td>\n",
       "      <td>Asia</td>\n",
       "      <td>NaN</td>\n",
       "      <td>2019-12-31</td>\n",
       "    </tr>\n",
       "    <tr>\n",
       "      <th>1</th>\n",
       "      <td>2</td>\n",
       "      <td>31</td>\n",
       "      <td>12</td>\n",
       "      <td>2019</td>\n",
       "      <td>0</td>\n",
       "      <td>0</td>\n",
       "      <td>Algeria</td>\n",
       "      <td>DZ</td>\n",
       "      <td>DZA</td>\n",
       "      <td>43053054.0</td>\n",
       "      <td>Africa</td>\n",
       "      <td>NaN</td>\n",
       "      <td>2019-12-31</td>\n",
       "    </tr>\n",
       "    <tr>\n",
       "      <th>2</th>\n",
       "      <td>3</td>\n",
       "      <td>31</td>\n",
       "      <td>12</td>\n",
       "      <td>2019</td>\n",
       "      <td>0</td>\n",
       "      <td>0</td>\n",
       "      <td>Armenia</td>\n",
       "      <td>AM</td>\n",
       "      <td>ARM</td>\n",
       "      <td>2957728.0</td>\n",
       "      <td>Europe</td>\n",
       "      <td>NaN</td>\n",
       "      <td>2019-12-31</td>\n",
       "    </tr>\n",
       "    <tr>\n",
       "      <th>3</th>\n",
       "      <td>4</td>\n",
       "      <td>31</td>\n",
       "      <td>12</td>\n",
       "      <td>2019</td>\n",
       "      <td>0</td>\n",
       "      <td>0</td>\n",
       "      <td>Australia</td>\n",
       "      <td>AU</td>\n",
       "      <td>AUS</td>\n",
       "      <td>25203200.0</td>\n",
       "      <td>Oceania</td>\n",
       "      <td>NaN</td>\n",
       "      <td>2019-12-31</td>\n",
       "    </tr>\n",
       "    <tr>\n",
       "      <th>4</th>\n",
       "      <td>5</td>\n",
       "      <td>31</td>\n",
       "      <td>12</td>\n",
       "      <td>2019</td>\n",
       "      <td>0</td>\n",
       "      <td>0</td>\n",
       "      <td>Austria</td>\n",
       "      <td>AT</td>\n",
       "      <td>AUT</td>\n",
       "      <td>8858775.0</td>\n",
       "      <td>Europe</td>\n",
       "      <td>NaN</td>\n",
       "      <td>2019-12-31</td>\n",
       "    </tr>\n",
       "  </tbody>\n",
       "</table>\n",
       "</div>"
      ],
      "text/plain": [
       "   Unnamed: 0  day  month  year  cases  deaths      country geoid  \\\n",
       "0           1   31     12  2019      0       0  Afghanistan    AF   \n",
       "1           2   31     12  2019      0       0      Algeria    DZ   \n",
       "2           3   31     12  2019      0       0      Armenia    AM   \n",
       "3           4   31     12  2019      0       0    Australia    AU   \n",
       "4           5   31     12  2019      0       0      Austria    AT   \n",
       "\n",
       "  countryterritoryCode  population_2019 continentExp  \\\n",
       "0                  AFG       38041757.0         Asia   \n",
       "1                  DZA       43053054.0       Africa   \n",
       "2                  ARM        2957728.0       Europe   \n",
       "3                  AUS       25203200.0      Oceania   \n",
       "4                  AUT        8858775.0       Europe   \n",
       "\n",
       "   Cumulative_number_for_14_days_of_COVID-19_cases_per_100000        date  \n",
       "0                                                NaN           2019-12-31  \n",
       "1                                                NaN           2019-12-31  \n",
       "2                                                NaN           2019-12-31  \n",
       "3                                                NaN           2019-12-31  \n",
       "4                                                NaN           2019-12-31  "
      ]
     },
     "execution_count": 144,
     "metadata": {},
     "output_type": "execute_result"
    }
   ],
   "source": [
    "ecdc = pd.read_csv('data/ecdc_cases.csv')\n",
    "print(ecdc.shape)\n",
    "ecdc.head()"
   ]
  },
  {
   "cell_type": "markdown",
   "metadata": {},
   "source": [
    "Há um total de 39.329 observações de 13 variáveis. A variável \"unnamed: 0\" é um índice. Day, month, e year indicam a data da contagem, enquanto date é uma representação em string destes 3 campos combinados. \n",
    "\n",
    "Country, geoid e countryterritorycode são variáveis categóricas representando o país a que pertence a contagem. Enquanto country é o nome do país por extenso, geoid e countryterritoryCode são diferentes representações codificadas da mesma informação. continentExp é o continente onde está localizado o país.\n",
    "\n",
    "Cases é o número de infecções de covid-19 reportadas para o país e a data contidos no registro, deaths é o número de mortes. Cumulative_number_for_14_days_of_COVID-19_cases_per_100000 é o número acumulado de mortes nos 14 dias anteriores à data do registro (?????). Population_2019, por sua vez, é a população para o país do registro em 2019."
   ]
  },
  {
   "cell_type": "code",
   "execution_count": 145,
   "metadata": {},
   "outputs": [
    {
     "name": "stdout",
     "output_type": "stream",
     "text": [
      "Index(['day', 'month', 'year', 'cases', 'deaths', 'country', 'geoid',\n",
      "       'countryterritoryCode', 'population_2019', 'continentExp',\n",
      "       'Cumulative_number_for_14_days_of_COVID-19_cases_per_100000', 'date'],\n",
      "      dtype='object')\n",
      "day                                                             int64\n",
      "month                                                           int64\n",
      "year                                                            int64\n",
      "cases                                                           int64\n",
      "deaths                                                          int64\n",
      "country                                                        object\n",
      "geoid                                                          object\n",
      "countryterritoryCode                                           object\n",
      "population_2019                                               float64\n",
      "continentExp                                                   object\n",
      "Cumulative_number_for_14_days_of_COVID-19_cases_per_100000    float64\n",
      "date                                                           object\n",
      "dtype: object\n"
     ]
    }
   ],
   "source": [
    "ecdc = ecdc.rename(columns={'Unnamed: 0':'index'})\n",
    "ecdc = ecdc.set_index('index')\n",
    "print(ecdc.columns)\n",
    "print(ecdc.dtypes)"
   ]
  },
  {
   "cell_type": "markdown",
   "metadata": {},
   "source": [
    "day, month, year, cases e deaths são variáveis numéricas representadas por um valor inteiro de 64 bits. population_2919 e cumulative_number_of_COVID-19_cases, por sua vez, são variáveis numéricas representadas por um float de 64 bits. Os demais valores são do tipo object e precisam ser tratados individualmente para que possam ser utilizados em análise e modelagem."
   ]
  },
  {
   "cell_type": "code",
   "execution_count": 146,
   "metadata": {},
   "outputs": [
    {
     "data": {
      "text/html": [
       "<div>\n",
       "<style scoped>\n",
       "    .dataframe tbody tr th:only-of-type {\n",
       "        vertical-align: middle;\n",
       "    }\n",
       "\n",
       "    .dataframe tbody tr th {\n",
       "        vertical-align: top;\n",
       "    }\n",
       "\n",
       "    .dataframe thead th {\n",
       "        text-align: right;\n",
       "    }\n",
       "</style>\n",
       "<table border=\"1\" class=\"dataframe\">\n",
       "  <thead>\n",
       "    <tr style=\"text-align: right;\">\n",
       "      <th></th>\n",
       "      <th>cases</th>\n",
       "      <th>deaths</th>\n",
       "      <th>population_2019</th>\n",
       "      <th>Cumulative_number_for_14_days_of_COVID-19_cases_per_100000</th>\n",
       "    </tr>\n",
       "  </thead>\n",
       "  <tbody>\n",
       "    <tr>\n",
       "      <th>count</th>\n",
       "      <td>39329.000000</td>\n",
       "      <td>39329.000000</td>\n",
       "      <td>3.926500e+04</td>\n",
       "      <td>36548.000000</td>\n",
       "    </tr>\n",
       "    <tr>\n",
       "      <th>mean</th>\n",
       "      <td>629.770042</td>\n",
       "      <td>21.296728</td>\n",
       "      <td>4.356086e+07</td>\n",
       "      <td>29.829640</td>\n",
       "    </tr>\n",
       "    <tr>\n",
       "      <th>std</th>\n",
       "      <td>3903.835228</td>\n",
       "      <td>125.518698</td>\n",
       "      <td>1.595846e+08</td>\n",
       "      <td>70.744754</td>\n",
       "    </tr>\n",
       "    <tr>\n",
       "      <th>min</th>\n",
       "      <td>0.000000</td>\n",
       "      <td>-1918.000000</td>\n",
       "      <td>8.150000e+02</td>\n",
       "      <td>-134.388021</td>\n",
       "    </tr>\n",
       "    <tr>\n",
       "      <th>25%</th>\n",
       "      <td>0.000000</td>\n",
       "      <td>0.000000</td>\n",
       "      <td>1.394969e+06</td>\n",
       "      <td>0.288427</td>\n",
       "    </tr>\n",
       "    <tr>\n",
       "      <th>50%</th>\n",
       "      <td>8.000000</td>\n",
       "      <td>0.000000</td>\n",
       "      <td>8.519373e+06</td>\n",
       "      <td>3.909339</td>\n",
       "    </tr>\n",
       "    <tr>\n",
       "      <th>75%</th>\n",
       "      <td>131.000000</td>\n",
       "      <td>2.000000</td>\n",
       "      <td>2.916192e+07</td>\n",
       "      <td>22.858351</td>\n",
       "    </tr>\n",
       "    <tr>\n",
       "      <th>max</th>\n",
       "      <td>78427.000000</td>\n",
       "      <td>4928.000000</td>\n",
       "      <td>1.433784e+09</td>\n",
       "      <td>1058.225943</td>\n",
       "    </tr>\n",
       "  </tbody>\n",
       "</table>\n",
       "</div>"
      ],
      "text/plain": [
       "              cases        deaths  population_2019  \\\n",
       "count  39329.000000  39329.000000     3.926500e+04   \n",
       "mean     629.770042     21.296728     4.356086e+07   \n",
       "std     3903.835228    125.518698     1.595846e+08   \n",
       "min        0.000000  -1918.000000     8.150000e+02   \n",
       "25%        0.000000      0.000000     1.394969e+06   \n",
       "50%        8.000000      0.000000     8.519373e+06   \n",
       "75%      131.000000      2.000000     2.916192e+07   \n",
       "max    78427.000000   4928.000000     1.433784e+09   \n",
       "\n",
       "       Cumulative_number_for_14_days_of_COVID-19_cases_per_100000  \n",
       "count                                       36548.000000           \n",
       "mean                                           29.829640           \n",
       "std                                            70.744754           \n",
       "min                                          -134.388021           \n",
       "25%                                             0.288427           \n",
       "50%                                             3.909339           \n",
       "75%                                            22.858351           \n",
       "max                                          1058.225943           "
      ]
     },
     "execution_count": 146,
     "metadata": {},
     "output_type": "execute_result"
    }
   ],
   "source": [
    "numerical = ecdc[['cases','deaths','population_2019','Cumulative_number_for_14_days_of_COVID-19_cases_per_100000']]\n",
    "numerical.describe()"
   ]
  },
  {
   "cell_type": "markdown",
   "metadata": {},
   "source": [
    "Acima, são exibidas as estatísticas descritivas das variáveis numéricas.\n",
    "\n",
    "O número de médio de casos reportados é 629.77, mas nota-se o valor observado para o desvio padrão, 3903.83,  aproximadamente 6 vezes maior do que a média. Isto é a primeira indicação de grande variabilidade. O mínimo é 0 enquanto o máximo é de 78427, e o valor 8 observado para a mediana indica que a metade inferior das contagens está concentrada em um intervalo estreito de valores. A distância entre o segundo e o terceiro quartil é de 123, indicando uma maior dispersão dos valores. Já a distância do terceiro quartil para o máximo é de 78296, indicando uma variabilidade ainda maior entre as mais altas contagens.\n",
    "\n",
    "O número de mortes exibe uma peculiaridade no valor mínimo, mostrando um valor negativo. Os primeiros 3 quartis são praticamente iguais, dado que a distacia entre o primeiro e o terceiro quartis é de apenas 2. O terceiro para o quarto quartil, no entanto, "
   ]
  },
  {
   "cell_type": "code",
   "execution_count": 147,
   "metadata": {},
   "outputs": [
    {
     "data": {
      "text/plain": [
       "Text(0, 0.5, 'Total')"
      ]
     },
     "execution_count": 147,
     "metadata": {},
     "output_type": "execute_result"
    },
    {
     "data": {
      "image/png": "[encoded data removed]",
      "text/plain": [
       "<Figure size 576x576 with 4 Axes>"
      ]
     },
     "metadata": {
      "needs_background": "light"
     },
     "output_type": "display_data"
    }
   ],
   "source": [
    "fig, axis = plt.subplots(2,2, figsize=(8,8))\n",
    "plt.subplots_adjust(top=1, right=1.3)\n",
    "\n",
    "\n",
    "sns.boxplot(ecdc[['cases']], ax=axis[0,0], orient='v')\n",
    "axis[0,0].set_xlabel('Cases')\n",
    "axis[0,0].set_ylabel('Total')\n",
    "\n",
    "sns.boxplot(ecdc[['deaths']], ax=axis[0,1], orient='v')\n",
    "axis[0,1].set_xlabel('Deaths')\n",
    "axis[0,1].set_ylabel('Total')"
   ]
  },
  {
   "cell_type": "code",
   "execution_count": 83,
   "metadata": {},
   "outputs": [
    {
     "name": "stdout",
     "output_type": "stream",
     "text": [
      "index\n",
      "1        38041757.0\n",
      "2        43053054.0\n",
      "3         2957728.0\n",
      "4        25203200.0\n",
      "5         8858775.0\n",
      "            ...    \n",
      "39325    96462108.0\n",
      "39326      582458.0\n",
      "39327    29161922.0\n",
      "39328    17861034.0\n",
      "39329    14645473.0\n",
      "Name: population_2019, Length: 39329, dtype: float64\n"
     ]
    }
   ],
   "source": [
    "print(ecdc['population_2019'])"
   ]
  },
  {
   "cell_type": "markdown",
   "metadata": {},
   "source": [
    "Observa-se também que a representação por float de population_2019 dificulta a visualização e parece não fazer sentido, dado a informação que a variável contém. Para análises subsequentes, ela poderá ser convertida para valores inteiros."
   ]
  },
  {
   "cell_type": "code",
   "execution_count": 51,
   "metadata": {},
   "outputs": [
    {
     "name": "stdout",
     "output_type": "stream",
     "text": [
      "2019-12-31 00:00:00\n",
      "2020-08-29 00:00:00\n"
     ]
    }
   ],
   "source": [
    "ecdc['date'] = pd.to_datetime(ecdc[['day','month','year']], dayfirst=True)\n",
    "print(ecdc['date'].min())\n",
    "print(ecdc['date'].max())"
   ]
  },
  {
   "cell_type": "markdown",
   "metadata": {},
   "source": [
    "A base contém dados coletados de 31/12/2019 até 29/08/2020, que também é o dia em que foi feito o acesso e download dos dados."
   ]
  },
  {
   "cell_type": "code",
   "execution_count": 55,
   "metadata": {},
   "outputs": [
    {
     "data": {
      "text/plain": [
       "210"
      ]
     },
     "execution_count": 55,
     "metadata": {},
     "output_type": "execute_result"
    }
   ],
   "source": [
    "len(pd.unique(ecdc['country']))"
   ]
  },
  {
   "cell_type": "markdown",
   "metadata": {},
   "source": [
    "A contagem de países únicos é 210. Esperava-se 195, indicando a necessidade de uma investigação para identificar a origem da disparidade."
   ]
  },
  {
   "cell_type": "code",
   "execution_count": 60,
   "metadata": {},
   "outputs": [
    {
     "name": "stdout",
     "output_type": "stream",
     "text": [
      "[array(['Afghanistan', 'Algeria', 'Armenia', 'Australia', 'Austria',\n",
      "       'Azerbaijan', 'Bahrain', 'Belarus', 'Belgium', 'Brazil',\n",
      "       'Cambodia', 'Canada', 'Cases_on_an_international_conveyance_Japan',\n",
      "       'China', 'Croatia', 'Czechia', 'Denmark', 'Dominican_Republic',\n",
      "       'Ecuador', 'Egypt', 'Estonia', 'Finland', 'France', 'Georgia',\n",
      "       'Germany', 'Greece', 'Iceland', 'India', 'Indonesia', 'Iran',\n",
      "       'Iraq', 'Ireland', 'Israel', 'Italy', 'Japan', 'Kuwait', 'Lebanon',\n",
      "       'Lithuania', 'Luxembourg', 'Malaysia', 'Mexico', 'Monaco', 'Nepal',\n",
      "       'Netherlands', 'New_Zealand', 'Nigeria', 'North_Macedonia',\n",
      "       'Norway', 'Oman', 'Pakistan', 'Philippines', 'Qatar', 'Romania',\n",
      "       'Russia', 'San_Marino', 'Singapore', 'South_Korea', 'Spain',\n",
      "       'Sri_Lanka', 'Sweden', 'Switzerland', 'Taiwan', 'Thailand',\n",
      "       'United_Arab_Emirates', 'United_Kingdom',\n",
      "       'United_States_of_America', 'Vietnam', 'Andorra', 'Jordan',\n",
      "       'Latvia', 'Morocco', 'Portugal', 'Saudi_Arabia', 'Senegal',\n",
      "       'Sint_Maarten', 'Tunisia', 'Argentina', 'Chile', 'Poland',\n",
      "       'Ukraine', 'Hungary', 'Liechtenstein', 'Slovenia', 'Bhutan',\n",
      "       'Bosnia_and_Herzegovina', 'Faroe_Islands', 'Palestine',\n",
      "       'South_Africa', 'Cameroon', 'Colombia', 'Costa_Rica', 'Holy_See',\n",
      "       'Malta', 'Peru', 'Serbia', 'Slovakia', 'Togo', 'Bulgaria',\n",
      "       'Maldives', 'Moldova', 'Paraguay', 'Albania', 'Bangladesh',\n",
      "       'Brunei_Darussalam', 'Cyprus', 'Mongolia', 'Panama',\n",
      "       'Burkina_Faso', 'Democratic_Republic_of_the_Congo', 'Bolivia',\n",
      "       'Cote_dIvoire', 'Cuba', 'Honduras', 'Jamaica', 'Turkey', 'Aruba',\n",
      "       'Curaçao', 'Gabon', 'Ghana', 'Guyana',\n",
      "       'Saint_Vincent_and_the_Grenadines', 'Trinidad_and_Tobago',\n",
      "       'Ethiopia', 'Guinea', 'Kenya', 'Kosovo', 'Sudan',\n",
      "       'Antigua_and_Barbuda', 'Equatorial_Guinea', 'Eswatini',\n",
      "       'Guatemala', 'Kazakhstan', 'Mauritania', 'Namibia', 'Rwanda',\n",
      "       'Saint_Lucia', 'Seychelles', 'Suriname', 'Uruguay', 'Venezuela',\n",
      "       'Bahamas', 'Central_African_Republic', 'Congo', 'Uzbekistan',\n",
      "       'Benin', 'Liberia', 'Myanmar', 'Somalia',\n",
      "       'United_Republic_of_Tanzania', 'Barbados', 'Gambia', 'Montenegro',\n",
      "       'Djibouti', 'El_Salvador', 'French_Polynesia', 'Guam',\n",
      "       'Kyrgyzstan', 'Nicaragua', 'Zambia', 'Bermuda', 'Cayman_Islands',\n",
      "       'Chad', 'Fiji', 'Gibraltar', 'Greenland', 'Guernsey', 'Haiti',\n",
      "       'Jersey', 'Mauritius', 'Cape_Verde', 'Isle_of_Man', 'Madagascar',\n",
      "       'Montserrat', 'New_Caledonia', 'Niger', 'Papua_New_Guinea',\n",
      "       'Zimbabwe', 'Angola', 'Eritrea', 'Timor_Leste', 'Uganda',\n",
      "       'Dominica', 'Grenada', 'Mozambique', 'Syria', 'Belize',\n",
      "       'United_States_Virgin_Islands', 'Laos', 'Libya',\n",
      "       'Turks_and_Caicos_islands', 'Mali', 'Saint_Kitts_and_Nevis',\n",
      "       'Anguilla', 'British_Virgin_Islands', 'Guinea_Bissau',\n",
      "       'Puerto_Rico', 'Northern_Mariana_Islands', 'Botswana', 'Burundi',\n",
      "       'Sierra_Leone', 'Bonaire, Saint Eustatius and Saba', 'Malawi',\n",
      "       'Falkland_Islands_(Malvinas)', 'South_Sudan',\n",
      "       'Sao_Tome_and_Principe', 'Yemen', 'Western_Sahara', 'Tajikistan',\n",
      "       'Comoros', 'Lesotho'], dtype=object)]\n"
     ]
    }
   ],
   "source": [
    "print([pd.unique(ecdc['country'])])"
   ]
  },
  {
   "cell_type": "markdown",
   "metadata": {},
   "source": [
    "Observa-se a presença de territórios autônomos e ultramarinos como Gibraltar, Ilhas Virgens Britânicas, Anguilla e as Ilhas Falkland. A lista também exibe territórios disputados como Saara Ocidental e Kosovo, além de ter duas entrada relativas ao Japão. "
   ]
  },
  {
   "cell_type": "code",
   "execution_count": null,
   "metadata": {},
   "outputs": [],
   "source": []
  }
 ],
 "metadata": {
  "kernelspec": {
   "display_name": "Python 3",
   "language": "python",
   "name": "python3"
  },
  "language_info": {
   "codemirror_mode": {
    "name": "ipython",
    "version": 3
   },
   "file_extension": ".py",
   "mimetype": "text/x-python",
   "name": "python",
   "nbconvert_exporter": "python",
   "pygments_lexer": "ipython3",
   "version": "3.8.1"
  }
 },
 "nbformat": 4,
 "nbformat_minor": 4
}
