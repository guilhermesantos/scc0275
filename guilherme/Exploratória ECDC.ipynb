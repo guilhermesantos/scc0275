{
 "cells": [
  {
   "cell_type": "code",
   "execution_count": 312,
   "metadata": {},
   "outputs": [],
   "source": [
    "import matplotlib.pyplot as plt\n",
    "import seaborn as sns\n",
    "import pandas as pd\n",
    "import stats\n",
    "import sklearn as sk\n",
    "import plotly\n",
    "import numpy as np"
   ]
  },
  {
   "cell_type": "markdown",
   "metadata": {},
   "source": [
    "# ECDC - Preprocessamento e análise exploratória"
   ]
  },
  {
   "cell_type": "markdown",
   "metadata": {},
   "source": [
    "Esta base, compilada pelo Centro Europeu de Prevenção de Doenças (ECDC, na sigla em inglês) contém o número de infecções e óbitos por Covid-19 no mundo ao longo da pandemia."
   ]
  },
  {
   "cell_type": "code",
   "execution_count": 380,
   "metadata": {},
   "outputs": [
    {
     "name": "stdout",
     "output_type": "stream",
     "text": [
      "(39329, 13)\n"
     ]
    },
    {
     "data": {
      "text/html": [
       "<div>\n",
       "<style scoped>\n",
       "    .dataframe tbody tr th:only-of-type {\n",
       "        vertical-align: middle;\n",
       "    }\n",
       "\n",
       "    .dataframe tbody tr th {\n",
       "        vertical-align: top;\n",
       "    }\n",
       "\n",
       "    .dataframe thead th {\n",
       "        text-align: right;\n",
       "    }\n",
       "</style>\n",
       "<table border=\"1\" class=\"dataframe\">\n",
       "  <thead>\n",
       "    <tr style=\"text-align: right;\">\n",
       "      <th></th>\n",
       "      <th>Unnamed: 0</th>\n",
       "      <th>day</th>\n",
       "      <th>month</th>\n",
       "      <th>year</th>\n",
       "      <th>cases</th>\n",
       "      <th>deaths</th>\n",
       "      <th>country</th>\n",
       "      <th>geoid</th>\n",
       "      <th>countryterritoryCode</th>\n",
       "      <th>population_2019</th>\n",
       "      <th>continentExp</th>\n",
       "      <th>Cumulative_number_for_14_days_of_COVID-19_cases_per_100000</th>\n",
       "      <th>date</th>\n",
       "    </tr>\n",
       "  </thead>\n",
       "  <tbody>\n",
       "    <tr>\n",
       "      <th>0</th>\n",
       "      <td>1</td>\n",
       "      <td>31</td>\n",
       "      <td>12</td>\n",
       "      <td>2019</td>\n",
       "      <td>0</td>\n",
       "      <td>0</td>\n",
       "      <td>Afghanistan</td>\n",
       "      <td>AF</td>\n",
       "      <td>AFG</td>\n",
       "      <td>38041757.0</td>\n",
       "      <td>Asia</td>\n",
       "      <td>NaN</td>\n",
       "      <td>2019-12-31</td>\n",
       "    </tr>\n",
       "    <tr>\n",
       "      <th>1</th>\n",
       "      <td>2</td>\n",
       "      <td>31</td>\n",
       "      <td>12</td>\n",
       "      <td>2019</td>\n",
       "      <td>0</td>\n",
       "      <td>0</td>\n",
       "      <td>Algeria</td>\n",
       "      <td>DZ</td>\n",
       "      <td>DZA</td>\n",
       "      <td>43053054.0</td>\n",
       "      <td>Africa</td>\n",
       "      <td>NaN</td>\n",
       "      <td>2019-12-31</td>\n",
       "    </tr>\n",
       "    <tr>\n",
       "      <th>2</th>\n",
       "      <td>3</td>\n",
       "      <td>31</td>\n",
       "      <td>12</td>\n",
       "      <td>2019</td>\n",
       "      <td>0</td>\n",
       "      <td>0</td>\n",
       "      <td>Armenia</td>\n",
       "      <td>AM</td>\n",
       "      <td>ARM</td>\n",
       "      <td>2957728.0</td>\n",
       "      <td>Europe</td>\n",
       "      <td>NaN</td>\n",
       "      <td>2019-12-31</td>\n",
       "    </tr>\n",
       "    <tr>\n",
       "      <th>3</th>\n",
       "      <td>4</td>\n",
       "      <td>31</td>\n",
       "      <td>12</td>\n",
       "      <td>2019</td>\n",
       "      <td>0</td>\n",
       "      <td>0</td>\n",
       "      <td>Australia</td>\n",
       "      <td>AU</td>\n",
       "      <td>AUS</td>\n",
       "      <td>25203200.0</td>\n",
       "      <td>Oceania</td>\n",
       "      <td>NaN</td>\n",
       "      <td>2019-12-31</td>\n",
       "    </tr>\n",
       "    <tr>\n",
       "      <th>4</th>\n",
       "      <td>5</td>\n",
       "      <td>31</td>\n",
       "      <td>12</td>\n",
       "      <td>2019</td>\n",
       "      <td>0</td>\n",
       "      <td>0</td>\n",
       "      <td>Austria</td>\n",
       "      <td>AT</td>\n",
       "      <td>AUT</td>\n",
       "      <td>8858775.0</td>\n",
       "      <td>Europe</td>\n",
       "      <td>NaN</td>\n",
       "      <td>2019-12-31</td>\n",
       "    </tr>\n",
       "  </tbody>\n",
       "</table>\n",
       "</div>"
      ],
      "text/plain": [
       "   Unnamed: 0  day  month  year  cases  deaths      country geoid  \\\n",
       "0           1   31     12  2019      0       0  Afghanistan    AF   \n",
       "1           2   31     12  2019      0       0      Algeria    DZ   \n",
       "2           3   31     12  2019      0       0      Armenia    AM   \n",
       "3           4   31     12  2019      0       0    Australia    AU   \n",
       "4           5   31     12  2019      0       0      Austria    AT   \n",
       "\n",
       "  countryterritoryCode  population_2019 continentExp  \\\n",
       "0                  AFG       38041757.0         Asia   \n",
       "1                  DZA       43053054.0       Africa   \n",
       "2                  ARM        2957728.0       Europe   \n",
       "3                  AUS       25203200.0      Oceania   \n",
       "4                  AUT        8858775.0       Europe   \n",
       "\n",
       "   Cumulative_number_for_14_days_of_COVID-19_cases_per_100000        date  \n",
       "0                                                NaN           2019-12-31  \n",
       "1                                                NaN           2019-12-31  \n",
       "2                                                NaN           2019-12-31  \n",
       "3                                                NaN           2019-12-31  \n",
       "4                                                NaN           2019-12-31  "
      ]
     },
     "execution_count": 380,
     "metadata": {},
     "output_type": "execute_result"
    }
   ],
   "source": [
    "ecdc = pd.read_csv('data/ecdc_cases.csv')\n",
    "print(ecdc.shape)\n",
    "ecdc.head()"
   ]
  },
  {
   "cell_type": "markdown",
   "metadata": {},
   "source": [
    "Há um total de 39.329 observações de 13 variáveis. A variável \"unnamed: 0\" é um índice. Day, month, e year indicam a data da contagem, enquanto date é uma representação em string destes 3 campos combinados. \n",
    "\n",
    "Country, geoid e countryterritorycode são variáveis categóricas representando o país a que pertence a contagem. Enquanto country é o nome do país por extenso, geoid e countryterritoryCode são diferentes representações codificadas da mesma informação. continentExp é o continente onde está localizado o país.\n",
    "\n",
    "Cases é o número de infecções de covid-19 reportadas para o país e a data contidos no registro, deaths é o número de mortes. Cumulative_number_for_14_days_of_COVID-19_cases_per_100000 é a taxa de variação no valor acumulado de casos reportados nos 14 dias anteriores à captação do registro, calculada a cada 100 mil habitantes. Population_2019, por sua vez, é a população para o país do registro em 2019."
   ]
  },
  {
   "cell_type": "markdown",
   "metadata": {},
   "source": [
    "## Tipos de dados"
   ]
  },
  {
   "cell_type": "code",
   "execution_count": 381,
   "metadata": {},
   "outputs": [
    {
     "name": "stdout",
     "output_type": "stream",
     "text": [
      "Index(['day', 'month', 'year', 'cases', 'deaths', 'country', 'geoid',\n",
      "       'countryterritoryCode', 'population_2019', 'continentExp',\n",
      "       'Cumulative_14days_100000', 'date'],\n",
      "      dtype='object')\n",
      "day                           int64\n",
      "month                         int64\n",
      "year                          int64\n",
      "cases                         int64\n",
      "deaths                        int64\n",
      "country                      object\n",
      "geoid                        object\n",
      "countryterritoryCode         object\n",
      "population_2019             float64\n",
      "continentExp                 object\n",
      "Cumulative_14days_100000    float64\n",
      "date                         object\n",
      "dtype: object\n"
     ]
    }
   ],
   "source": [
    "ecdc = ecdc.rename(columns={'Unnamed: 0':'index', 'Cumulative_number_for_14_days_of_COVID-19_cases_per_100000':'Cumulative_14days_100000'})\n",
    "ecdc = ecdc.set_index('index')\n",
    "print(ecdc.columns)\n",
    "print(ecdc.dtypes)"
   ]
  },
  {
   "cell_type": "markdown",
   "metadata": {},
   "source": [
    "day, month, year, cases e deaths são variáveis representadas por um valor inteiro de 64 bits. population_2919 e cumulative_number_of_COVID-19_cases, por sua vez, são variáveis numéricas representadas por um float de 64 bits. Os demais valores são do tipo object e precisam ser estudados individualmente para que possam ser utilizados em análise e modelagem."
   ]
  },
  {
   "cell_type": "markdown",
   "metadata": {},
   "source": [
    "## Ocorrência de valores nulos"
   ]
  },
  {
   "cell_type": "code",
   "execution_count": 382,
   "metadata": {},
   "outputs": [
    {
     "data": {
      "text/plain": [
       "day                            0\n",
       "month                          0\n",
       "year                           0\n",
       "cases                          0\n",
       "deaths                         0\n",
       "country                        0\n",
       "geoid                        168\n",
       "countryterritoryCode          64\n",
       "population_2019               64\n",
       "continentExp                   0\n",
       "Cumulative_14days_100000    2781\n",
       "date                           0\n",
       "dtype: int64"
      ]
     },
     "execution_count": 382,
     "metadata": {},
     "output_type": "execute_result"
    }
   ],
   "source": [
    "ecdc.isnull().sum()"
   ]
  },
  {
   "cell_type": "code",
   "execution_count": 383,
   "metadata": {},
   "outputs": [
    {
     "data": {
      "image/png": "[encoded data removed]",
      "text/plain": [
       "<Figure size 1080x360 with 1 Axes>"
      ]
     },
     "metadata": {},
     "output_type": "display_data"
    }
   ],
   "source": [
    "#Colocar aqui a análise dos NaNs\n",
    "plt.figure(figsize=(15,5))\n",
    "plt.title('Contagem de valores nulos')\n",
    "missing = ecdc.isnull().sum().to_frame()\n",
    "missing.columns = ['Missing value count']\n",
    "missing.index.names = ['Variable']\n",
    "missing['Variable'] = missing.index\n",
    "sns.set(style='whitegrid', color_codes=True)\n",
    "graph = sns.barplot(x='Variable', y='Missing value count', data=missing, orient='v')\n",
    "#graph.set_xticklabels(labels=missing.columns, rotation=45)\n",
    "for item in graph.get_xticklabels():\n",
    "    item.set_rotation(45)"
   ]
  },
  {
   "cell_type": "markdown",
   "metadata": {},
   "source": [
    "Há valores nulos nas variáveis geoId, countryterritoryCode, population_2019 e Cumulative_14days_100000. Os atributos geoId e countryterritoryCode podem ser ignorados, dado que parecem não acrescentar informação àquela já presente na coluna Country para os propósitos deste trabalho. \n",
    "\n",
    "Population e cumulative, no entanto, exigem uma estratégia de imputação. "
   ]
  },
  {
   "cell_type": "code",
   "execution_count": 385,
   "metadata": {},
   "outputs": [
    {
     "data": {
      "text/html": [
       "<div>\n",
       "<style scoped>\n",
       "    .dataframe tbody tr th:only-of-type {\n",
       "        vertical-align: middle;\n",
       "    }\n",
       "\n",
       "    .dataframe tbody tr th {\n",
       "        vertical-align: top;\n",
       "    }\n",
       "\n",
       "    .dataframe thead th {\n",
       "        text-align: right;\n",
       "    }\n",
       "</style>\n",
       "<table border=\"1\" class=\"dataframe\">\n",
       "  <thead>\n",
       "    <tr style=\"text-align: right;\">\n",
       "      <th>Variable</th>\n",
       "      <th>country</th>\n",
       "      <th>Cumulative_14days_100000</th>\n",
       "      <th>population_2019</th>\n",
       "    </tr>\n",
       "    <tr>\n",
       "      <th>index</th>\n",
       "      <th></th>\n",
       "      <th></th>\n",
       "      <th></th>\n",
       "    </tr>\n",
       "  </thead>\n",
       "  <tbody>\n",
       "    <tr>\n",
       "      <th>1</th>\n",
       "      <td>Afghanistan</td>\n",
       "      <td>NaN</td>\n",
       "      <td>38041757.0</td>\n",
       "    </tr>\n",
       "    <tr>\n",
       "      <th>2</th>\n",
       "      <td>Algeria</td>\n",
       "      <td>NaN</td>\n",
       "      <td>43053054.0</td>\n",
       "    </tr>\n",
       "    <tr>\n",
       "      <th>3</th>\n",
       "      <td>Armenia</td>\n",
       "      <td>NaN</td>\n",
       "      <td>2957728.0</td>\n",
       "    </tr>\n",
       "    <tr>\n",
       "      <th>4</th>\n",
       "      <td>Australia</td>\n",
       "      <td>NaN</td>\n",
       "      <td>25203200.0</td>\n",
       "    </tr>\n",
       "    <tr>\n",
       "      <th>5</th>\n",
       "      <td>Austria</td>\n",
       "      <td>NaN</td>\n",
       "      <td>8858775.0</td>\n",
       "    </tr>\n",
       "    <tr>\n",
       "      <th>...</th>\n",
       "      <td>...</td>\n",
       "      <td>...</td>\n",
       "      <td>...</td>\n",
       "    </tr>\n",
       "    <tr>\n",
       "      <th>39325</th>\n",
       "      <td>Vietnam</td>\n",
       "      <td>0.111961</td>\n",
       "      <td>96462108.0</td>\n",
       "    </tr>\n",
       "    <tr>\n",
       "      <th>39326</th>\n",
       "      <td>Western_Sahara</td>\n",
       "      <td>0.000000</td>\n",
       "      <td>582458.0</td>\n",
       "    </tr>\n",
       "    <tr>\n",
       "      <th>39327</th>\n",
       "      <td>Yemen</td>\n",
       "      <td>0.291476</td>\n",
       "      <td>29161922.0</td>\n",
       "    </tr>\n",
       "    <tr>\n",
       "      <th>39328</th>\n",
       "      <td>Zambia</td>\n",
       "      <td>15.441435</td>\n",
       "      <td>17861034.0</td>\n",
       "    </tr>\n",
       "    <tr>\n",
       "      <th>39329</th>\n",
       "      <td>Zimbabwe</td>\n",
       "      <td>8.985712</td>\n",
       "      <td>14645473.0</td>\n",
       "    </tr>\n",
       "  </tbody>\n",
       "</table>\n",
       "<p>39329 rows × 3 columns</p>\n",
       "</div>"
      ],
      "text/plain": [
       "Variable         country  Cumulative_14days_100000  population_2019\n",
       "index                                                              \n",
       "1            Afghanistan                       NaN       38041757.0\n",
       "2                Algeria                       NaN       43053054.0\n",
       "3                Armenia                       NaN        2957728.0\n",
       "4              Australia                       NaN       25203200.0\n",
       "5                Austria                       NaN        8858775.0\n",
       "...                  ...                       ...              ...\n",
       "39325            Vietnam                  0.111961       96462108.0\n",
       "39326     Western_Sahara                  0.000000         582458.0\n",
       "39327              Yemen                  0.291476       29161922.0\n",
       "39328             Zambia                 15.441435       17861034.0\n",
       "39329           Zimbabwe                  8.985712       14645473.0\n",
       "\n",
       "[39329 rows x 3 columns]"
      ]
     },
     "execution_count": 385,
     "metadata": {},
     "output_type": "execute_result"
    }
   ],
   "source": [
    "ecdc[['country','Cumulative_14days_100000','population_2019']]"
   ]
  },
  {
   "cell_type": "code",
   "execution_count": 386,
   "metadata": {},
   "outputs": [
    {
     "data": {
      "text/html": [
       "<div>\n",
       "<style scoped>\n",
       "    .dataframe tbody tr th:only-of-type {\n",
       "        vertical-align: middle;\n",
       "    }\n",
       "\n",
       "    .dataframe tbody tr th {\n",
       "        vertical-align: top;\n",
       "    }\n",
       "\n",
       "    .dataframe thead th {\n",
       "        text-align: right;\n",
       "    }\n",
       "</style>\n",
       "<table border=\"1\" class=\"dataframe\">\n",
       "  <thead>\n",
       "    <tr style=\"text-align: right;\">\n",
       "      <th></th>\n",
       "      <th>Contagem</th>\n",
       "      <th>Possui valor único de população para todos os registros</th>\n",
       "    </tr>\n",
       "  </thead>\n",
       "  <tbody>\n",
       "    <tr>\n",
       "      <th>1</th>\n",
       "      <td>209</td>\n",
       "      <td>1</td>\n",
       "    </tr>\n",
       "    <tr>\n",
       "      <th>0</th>\n",
       "      <td>1</td>\n",
       "      <td>0</td>\n",
       "    </tr>\n",
       "  </tbody>\n",
       "</table>\n",
       "</div>"
      ],
      "text/plain": [
       "   Contagem  Possui valor único de população para todos os registros\n",
       "1       209                                                  1      \n",
       "0         1                                                  0      "
      ]
     },
     "execution_count": 386,
     "metadata": {},
     "output_type": "execute_result"
    }
   ],
   "source": [
    "unique_population_counts_per_country = ecdc.groupby('country')[['population_2019']].nunique()\n",
    "unique_df = unique_population_counts_per_country['population_2019'].value_counts().to_frame()\n",
    "unique_df.columns = ['Contagem']\n",
    "unique_df['Possui valor único de população para todos os registros'] = unique_df.index\n",
    "unique_df"
   ]
  },
  {
   "cell_type": "markdown",
   "metadata": {},
   "source": [
    "O trecho acima revela que, dos 210 países na base, 209 possuem um único valor de população registrado para 2019. Em outras palavras, essa coluna replica o mesmo valor para todos os registros de cada país. "
   ]
  },
  {
   "cell_type": "code",
   "execution_count": 387,
   "metadata": {},
   "outputs": [
    {
     "name": "stdout",
     "output_type": "stream",
     "text": [
      "Países que tem população nula:  ['Cases_on_an_international_conveyance_Japan']\n"
     ]
    }
   ],
   "source": [
    "print('Países que tem população nula: ', ecdc[ecdc['population_2019'].isnull()]['country'].unique())"
   ]
  },
  {
   "cell_type": "markdown",
   "metadata": {},
   "source": [
    "Conclui-se ainda que o único tipo de registro que tem população nula são os que tem como país \"Cases_on_an_international_conveyance_Japan\". Dependendo do número de registros com este valor na variável país, pode ser possível ignorá-los."
   ]
  },
  {
   "cell_type": "code",
   "execution_count": 389,
   "metadata": {},
   "outputs": [
    {
     "name": "stdout",
     "output_type": "stream",
     "text": [
      "Número de registros com 'Cases on an international conveyance japan' como país:  64\n"
     ]
    }
   ],
   "source": [
    "counts = ecdc.groupby('country').count()['day']\n",
    "counts.columns = ['Contagem de registros']\n",
    "print(\"Número de registros com 'Cases on an international conveyance japan' como país: \", counts['Cases_on_an_international_conveyance_Japan'])"
   ]
  },
  {
   "cell_type": "markdown",
   "metadata": {},
   "source": [
    "Como há apenas 64 registros com este país, eles serão ignorados."
   ]
  },
  {
   "cell_type": "code",
   "execution_count": 421,
   "metadata": {},
   "outputs": [
    {
     "name": "stdout",
     "output_type": "stream",
     "text": [
      "Número de registros que tem a variável \"Cumulative_14days_100000\" nula para cada país: 13    209\n",
      "Name: country, dtype: int64\n"
     ]
    }
   ],
   "source": [
    "ecdc = ecdc[ecdc['country'] != 'Cases_on_an_international_conveyance_Japan']\n",
    "cumulative_null = ecdc[ecdc['Cumulative_14days_100000'].isnull()]\n",
    "cumulative_null = cumulative_null.set_index('country')\n",
    "cumulative_null = cumulative_null.sort_index()\n",
    "print('Número de registros que tem a variável \"Cumulative_14days_100000\" nula para cada país:', cumulative_null.index.value_counts().value_counts())\n",
    "#Explicar o que está acontecendo com os nulos do cumulative"
   ]
  },
  {
   "cell_type": "code",
   "execution_count": 418,
   "metadata": {},
   "outputs": [
    {
     "data": {
      "text/plain": [
       "Taiwan                      230\n",
       "United_States_of_America    230\n",
       "Canada                      230\n",
       "Japan                       230\n",
       "Singapore                   230\n",
       "                           ... \n",
       "Yemen                       129\n",
       "Western_Sahara              113\n",
       "Tajikistan                  108\n",
       "Comoros                     107\n",
       "Lesotho                      94\n",
       "Name: country, Length: 209, dtype: int64"
      ]
     },
     "execution_count": 418,
     "metadata": {},
     "output_type": "execute_result"
    }
   ],
   "source": [
    "cumulative_not_null = ecdc[ecdc['Cumulative_14days_100000'].notnull()]\n",
    "cumulative_not_null = cumulative_not_null.set_index('country')\n",
    "cumulative_not_null = cumulative_not_null.sort_index()\n",
    "cumulative_not_null.index.value_counts()\n"
   ]
  },
  {
   "cell_type": "markdown",
   "metadata": {},
   "source": [
    "Nota-se que todos os países tem 13 registros em que a variável \"Cumulative_number_for_14_days_of_COVID-19_cases_per_100000\". Isto faz sentido, dado que a primeira coleta deste atributo ocorre após o décimo quarto dia. Se essa variável for utilizada no processo de modelagem, os 13 primeiros dias podem precisar omitidos.\n",
    "\n",
    "Nota-se também que alguns países tem número menor de registros, indicando que a coleta de notificações começou mais tarde."
   ]
  },
  {
   "cell_type": "markdown",
   "metadata": {},
   "source": [
    "## Estatísticas descritivas e boxplots"
   ]
  },
  {
   "cell_type": "code",
   "execution_count": 146,
   "metadata": {},
   "outputs": [
    {
     "data": {
      "text/html": [
       "<div>\n",
       "<style scoped>\n",
       "    .dataframe tbody tr th:only-of-type {\n",
       "        vertical-align: middle;\n",
       "    }\n",
       "\n",
       "    .dataframe tbody tr th {\n",
       "        vertical-align: top;\n",
       "    }\n",
       "\n",
       "    .dataframe thead th {\n",
       "        text-align: right;\n",
       "    }\n",
       "</style>\n",
       "<table border=\"1\" class=\"dataframe\">\n",
       "  <thead>\n",
       "    <tr style=\"text-align: right;\">\n",
       "      <th></th>\n",
       "      <th>cases</th>\n",
       "      <th>deaths</th>\n",
       "      <th>population_2019</th>\n",
       "      <th>Cumulative_number_for_14_days_of_COVID-19_cases_per_100000</th>\n",
       "    </tr>\n",
       "  </thead>\n",
       "  <tbody>\n",
       "    <tr>\n",
       "      <th>count</th>\n",
       "      <td>39329.000000</td>\n",
       "      <td>39329.000000</td>\n",
       "      <td>3.926500e+04</td>\n",
       "      <td>36548.000000</td>\n",
       "    </tr>\n",
       "    <tr>\n",
       "      <th>mean</th>\n",
       "      <td>629.770042</td>\n",
       "      <td>21.296728</td>\n",
       "      <td>4.356086e+07</td>\n",
       "      <td>29.829640</td>\n",
       "    </tr>\n",
       "    <tr>\n",
       "      <th>std</th>\n",
       "      <td>3903.835228</td>\n",
       "      <td>125.518698</td>\n",
       "      <td>1.595846e+08</td>\n",
       "      <td>70.744754</td>\n",
       "    </tr>\n",
       "    <tr>\n",
       "      <th>min</th>\n",
       "      <td>0.000000</td>\n",
       "      <td>-1918.000000</td>\n",
       "      <td>8.150000e+02</td>\n",
       "      <td>-134.388021</td>\n",
       "    </tr>\n",
       "    <tr>\n",
       "      <th>25%</th>\n",
       "      <td>0.000000</td>\n",
       "      <td>0.000000</td>\n",
       "      <td>1.394969e+06</td>\n",
       "      <td>0.288427</td>\n",
       "    </tr>\n",
       "    <tr>\n",
       "      <th>50%</th>\n",
       "      <td>8.000000</td>\n",
       "      <td>0.000000</td>\n",
       "      <td>8.519373e+06</td>\n",
       "      <td>3.909339</td>\n",
       "    </tr>\n",
       "    <tr>\n",
       "      <th>75%</th>\n",
       "      <td>131.000000</td>\n",
       "      <td>2.000000</td>\n",
       "      <td>2.916192e+07</td>\n",
       "      <td>22.858351</td>\n",
       "    </tr>\n",
       "    <tr>\n",
       "      <th>max</th>\n",
       "      <td>78427.000000</td>\n",
       "      <td>4928.000000</td>\n",
       "      <td>1.433784e+09</td>\n",
       "      <td>1058.225943</td>\n",
       "    </tr>\n",
       "  </tbody>\n",
       "</table>\n",
       "</div>"
      ],
      "text/plain": [
       "              cases        deaths  population_2019  \\\n",
       "count  39329.000000  39329.000000     3.926500e+04   \n",
       "mean     629.770042     21.296728     4.356086e+07   \n",
       "std     3903.835228    125.518698     1.595846e+08   \n",
       "min        0.000000  -1918.000000     8.150000e+02   \n",
       "25%        0.000000      0.000000     1.394969e+06   \n",
       "50%        8.000000      0.000000     8.519373e+06   \n",
       "75%      131.000000      2.000000     2.916192e+07   \n",
       "max    78427.000000   4928.000000     1.433784e+09   \n",
       "\n",
       "       Cumulative_number_for_14_days_of_COVID-19_cases_per_100000  \n",
       "count                                       36548.000000           \n",
       "mean                                           29.829640           \n",
       "std                                            70.744754           \n",
       "min                                          -134.388021           \n",
       "25%                                             0.288427           \n",
       "50%                                             3.909339           \n",
       "75%                                            22.858351           \n",
       "max                                          1058.225943           "
      ]
     },
     "execution_count": 146,
     "metadata": {},
     "output_type": "execute_result"
    }
   ],
   "source": [
    "numerical = ecdc[['cases','deaths','population_2019','Cumulative_number_for_14_days_of_COVID-19_cases_per_100000']]\n",
    "numerical.describe()"
   ]
  },
  {
   "cell_type": "markdown",
   "metadata": {},
   "source": [
    "Acima, são exibidas as estatísticas descritivas das variáveis numéricas. Abaixo, os boxplots indicando a dispersão de cada variável:"
   ]
  },
  {
   "cell_type": "code",
   "execution_count": 191,
   "metadata": {},
   "outputs": [
    {
     "data": {
      "text/plain": [
       "Text(0, 0.5, 'Total')"
      ]
     },
     "execution_count": 191,
     "metadata": {},
     "output_type": "execute_result"
    },
    {
     "data": {
      "image/png": "[encoded data removed]",
      "text/plain": [
       "<Figure size 432x360 with 3 Axes>"
      ]
     },
     "metadata": {
      "needs_background": "light"
     },
     "output_type": "display_data"
    }
   ],
   "source": [
    "fig, axis = plt.subplots(1,3, figsize=(6,5))\n",
    "plt.subplots_adjust(top=1, right=5)\n",
    "plt.rcParams.update({'font.size': 25})\n",
    "\n",
    "sns.boxplot(ecdc[['cases']], ax=axis[0], orient='v')\n",
    "axis[0].set_xlabel('Cases')\n",
    "axis[0].set_ylabel('Total')\n",
    "\n",
    "sns.boxplot(ecdc[['deaths']], ax=axis[1], orient='v')\n",
    "axis[1].set_xlabel('Deaths')\n",
    "axis[1].set_ylabel('Total')\n",
    "\n",
    "sns.boxplot(ecdc[['Cumulative_number_for_14_days_of_COVID-19_cases_per_100000']], ax=axis[2], orient='v')\n",
    "axis[2].set_xlabel('Cumulative number for 14 days of covid per 10000')\n",
    "axis[2].set_ylabel('Total')"
   ]
  },
  {
   "cell_type": "markdown",
   "metadata": {},
   "source": [
    "O número de médio de casos reportados é 629.77, mas nota-se o valor observado para o desvio padrão, 3903.83,  aproximadamente 6 vezes maior do que a média. O mínimo é 0 enquanto o máximo é de 78427, e o valor 8 observado para a mediana indica que a metade inferior das contagens está concentrada em um intervalo estreito de valores, conforme pode ser observado no boxplot. A distância entre o segundo e o terceiro quartil é de 123, indicando uma maior dispersão dos valores. Já a distância do terceiro quartil para o máximo é de 78296, indicando uma variabilidade ainda maior entre as mais altas contagens.\n",
    "\n",
    "O número de mortes exibe uma peculiaridade no valor mínimo, mostrando um valor negativo  que precisa ser analisado. Os primeiros 3 quartis são praticamente iguais, dado que a distacia entre o primeiro e o terceiro quartis é de apenas 2. O terceiro para o quarto quartil, assim como no número de casos, tem a maior variabilidade. \n",
    "\n",
    "O mesmo padrão de valores baixos estarem concentrados em uma faixa pequena, ao mesmo tempo em que há grande variabilidade em valores altos, pode ser observado no valor cumulativo."
   ]
  },
  {
   "cell_type": "code",
   "execution_count": 51,
   "metadata": {},
   "outputs": [
    {
     "name": "stdout",
     "output_type": "stream",
     "text": [
      "2019-12-31 00:00:00\n",
      "2020-08-29 00:00:00\n"
     ]
    }
   ],
   "source": [
    "ecdc['date'] = pd.to_datetime(ecdc[['day','month','year']], dayfirst=True)\n",
    "print(ecdc['date'].min())\n",
    "print(ecdc['date'].max())"
   ]
  },
  {
   "cell_type": "markdown",
   "metadata": {},
   "source": [
    "A base contém dados coletados de 31/12/2019 até 29/08/2020, que também é o dia em que foi feito o acesso e download dos dados."
   ]
  },
  {
   "cell_type": "code",
   "execution_count": 55,
   "metadata": {},
   "outputs": [
    {
     "data": {
      "text/plain": [
       "210"
      ]
     },
     "execution_count": 55,
     "metadata": {},
     "output_type": "execute_result"
    }
   ],
   "source": [
    "len(pd.unique(ecdc['country']))"
   ]
  },
  {
   "cell_type": "markdown",
   "metadata": {},
   "source": [
    "A contagem de países únicos é 210. Esperava-se 195, indicando a necessidade de uma investigação para identificar a origem da disparidade."
   ]
  },
  {
   "cell_type": "code",
   "execution_count": 60,
   "metadata": {},
   "outputs": [
    {
     "name": "stdout",
     "output_type": "stream",
     "text": [
      "[array(['Afghanistan', 'Algeria', 'Armenia', 'Australia', 'Austria',\n",
      "       'Azerbaijan', 'Bahrain', 'Belarus', 'Belgium', 'Brazil',\n",
      "       'Cambodia', 'Canada', 'Cases_on_an_international_conveyance_Japan',\n",
      "       'China', 'Croatia', 'Czechia', 'Denmark', 'Dominican_Republic',\n",
      "       'Ecuador', 'Egypt', 'Estonia', 'Finland', 'France', 'Georgia',\n",
      "       'Germany', 'Greece', 'Iceland', 'India', 'Indonesia', 'Iran',\n",
      "       'Iraq', 'Ireland', 'Israel', 'Italy', 'Japan', 'Kuwait', 'Lebanon',\n",
      "       'Lithuania', 'Luxembourg', 'Malaysia', 'Mexico', 'Monaco', 'Nepal',\n",
      "       'Netherlands', 'New_Zealand', 'Nigeria', 'North_Macedonia',\n",
      "       'Norway', 'Oman', 'Pakistan', 'Philippines', 'Qatar', 'Romania',\n",
      "       'Russia', 'San_Marino', 'Singapore', 'South_Korea', 'Spain',\n",
      "       'Sri_Lanka', 'Sweden', 'Switzerland', 'Taiwan', 'Thailand',\n",
      "       'United_Arab_Emirates', 'United_Kingdom',\n",
      "       'United_States_of_America', 'Vietnam', 'Andorra', 'Jordan',\n",
      "       'Latvia', 'Morocco', 'Portugal', 'Saudi_Arabia', 'Senegal',\n",
      "       'Sint_Maarten', 'Tunisia', 'Argentina', 'Chile', 'Poland',\n",
      "       'Ukraine', 'Hungary', 'Liechtenstein', 'Slovenia', 'Bhutan',\n",
      "       'Bosnia_and_Herzegovina', 'Faroe_Islands', 'Palestine',\n",
      "       'South_Africa', 'Cameroon', 'Colombia', 'Costa_Rica', 'Holy_See',\n",
      "       'Malta', 'Peru', 'Serbia', 'Slovakia', 'Togo', 'Bulgaria',\n",
      "       'Maldives', 'Moldova', 'Paraguay', 'Albania', 'Bangladesh',\n",
      "       'Brunei_Darussalam', 'Cyprus', 'Mongolia', 'Panama',\n",
      "       'Burkina_Faso', 'Democratic_Republic_of_the_Congo', 'Bolivia',\n",
      "       'Cote_dIvoire', 'Cuba', 'Honduras', 'Jamaica', 'Turkey', 'Aruba',\n",
      "       'Curaçao', 'Gabon', 'Ghana', 'Guyana',\n",
      "       'Saint_Vincent_and_the_Grenadines', 'Trinidad_and_Tobago',\n",
      "       'Ethiopia', 'Guinea', 'Kenya', 'Kosovo', 'Sudan',\n",
      "       'Antigua_and_Barbuda', 'Equatorial_Guinea', 'Eswatini',\n",
      "       'Guatemala', 'Kazakhstan', 'Mauritania', 'Namibia', 'Rwanda',\n",
      "       'Saint_Lucia', 'Seychelles', 'Suriname', 'Uruguay', 'Venezuela',\n",
      "       'Bahamas', 'Central_African_Republic', 'Congo', 'Uzbekistan',\n",
      "       'Benin', 'Liberia', 'Myanmar', 'Somalia',\n",
      "       'United_Republic_of_Tanzania', 'Barbados', 'Gambia', 'Montenegro',\n",
      "       'Djibouti', 'El_Salvador', 'French_Polynesia', 'Guam',\n",
      "       'Kyrgyzstan', 'Nicaragua', 'Zambia', 'Bermuda', 'Cayman_Islands',\n",
      "       'Chad', 'Fiji', 'Gibraltar', 'Greenland', 'Guernsey', 'Haiti',\n",
      "       'Jersey', 'Mauritius', 'Cape_Verde', 'Isle_of_Man', 'Madagascar',\n",
      "       'Montserrat', 'New_Caledonia', 'Niger', 'Papua_New_Guinea',\n",
      "       'Zimbabwe', 'Angola', 'Eritrea', 'Timor_Leste', 'Uganda',\n",
      "       'Dominica', 'Grenada', 'Mozambique', 'Syria', 'Belize',\n",
      "       'United_States_Virgin_Islands', 'Laos', 'Libya',\n",
      "       'Turks_and_Caicos_islands', 'Mali', 'Saint_Kitts_and_Nevis',\n",
      "       'Anguilla', 'British_Virgin_Islands', 'Guinea_Bissau',\n",
      "       'Puerto_Rico', 'Northern_Mariana_Islands', 'Botswana', 'Burundi',\n",
      "       'Sierra_Leone', 'Bonaire, Saint Eustatius and Saba', 'Malawi',\n",
      "       'Falkland_Islands_(Malvinas)', 'South_Sudan',\n",
      "       'Sao_Tome_and_Principe', 'Yemen', 'Western_Sahara', 'Tajikistan',\n",
      "       'Comoros', 'Lesotho'], dtype=object)]\n"
     ]
    }
   ],
   "source": [
    "print([pd.unique(ecdc['country'])])"
   ]
  },
  {
   "cell_type": "markdown",
   "metadata": {},
   "source": [
    "Observa-se que, apesar do nome da coluna, não há apenas registros de países na base. Há também presença de territórios autônomos e ultramarinos como Gibraltar, Ilhas Virgens Britânicas, Anguilla e as Ilhas Falkland. Além disso, a lista também exibe territórios disputados como Saara Ocidental e Kosovo, além de ter duas entrada relativas ao Japão. Essas são, portanto, as razões para a coluna countries ter 210 valores."
   ]
  },
  {
   "cell_type": "code",
   "execution_count": null,
   "metadata": {},
   "outputs": [],
   "source": []
  }
 ],
 "metadata": {
  "kernelspec": {
   "display_name": "Python 3",
   "language": "python",
   "name": "python3"
  },
  "language_info": {
   "codemirror_mode": {
    "name": "ipython",
    "version": 3
   },
   "file_extension": ".py",
   "mimetype": "text/x-python",
   "name": "python",
   "nbconvert_exporter": "python",
   "pygments_lexer": "ipython3",
   "version": "3.8.1"
  }
 },
 "nbformat": 4,
 "nbformat_minor": 4
}
